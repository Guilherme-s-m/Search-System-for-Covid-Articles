{
 "cells": [
  {
   "cell_type": "markdown",
   "metadata": {},
   "source": [
    "### Instalação e Configuração de Bibliotecas\n",
    "\n",
    "Primeiro, precisamos instalar as bibliotecas necessárias, se ainda não estiverem instaladas, e configurar os hiperparâmetros que usaremos. \n",
    "Estamos utilizando o modelo `all-MiniLM-L6-v2` da SBERT para gerar os embeddings iniciais.\n"
   ]
  },
  {
   "cell_type": "code",
   "execution_count": 1,
   "metadata": {},
   "outputs": [
    {
     "name": "stderr",
     "output_type": "stream",
     "text": [
      "c:\\Users\\guilh\\AppData\\Local\\Programs\\Python\\Python312\\Lib\\site-packages\\sentence_transformers\\cross_encoder\\CrossEncoder.py:13: TqdmExperimentalWarning: Using `tqdm.autonotebook.tqdm` in notebook mode. Use `tqdm.tqdm` instead to force console mode (e.g. in jupyter console)\n",
      "  from tqdm.autonotebook import tqdm, trange\n"
     ]
    }
   ],
   "source": [
    "# Instale as bibliotecas necessárias se ainda não estiverem instaladas\n",
    "# !pip install sentence-transformers torch matplotlib scikit-learn pandas\n",
    "\n",
    "import pandas as pd\n",
    "import torch\n",
    "from torch import nn, optim, cosine_similarity\n",
    "from torch.utils.data import DataLoader, TensorDataset\n",
    "from sentence_transformers import SentenceTransformer\n",
    "import matplotlib.pyplot as plt\n",
    "from sklearn.manifold import TSNE\n",
    "\n",
    "# Configurações e hiperparâmetros\n",
    "MODEL_NAME = \"all-MiniLM-L6-v2\"\n",
    "EMBEDDING_DIM = 384  # Dimensão dos embeddings do modelo SBERT escolhido\n",
    "HIDDEN_DIM = 128     # Dimensão da camada intermediária do autoencoder\n",
    "EPOCHS = 10\n",
    "BATCH_SIZE = 16\n",
    "LEARNING_RATE = 0.001\n"
   ]
  },
  {
   "cell_type": "markdown",
   "metadata": {},
   "source": [
    "### Carregar o Modelo SBERT e Criar o Autoencoder\n",
    "\n",
    "Nesta etapa, carregamos o modelo SBERT, que será usado para gerar embeddings. Em seguida, definimos o autoencoder que usaremos para ajustar esses embeddings ao nosso dataset. O autoencoder possui uma camada de encoder para reduzir a dimensionalidade e uma camada de decoder para reconstruir o embedding original.\n"
   ]
  },
  {
   "cell_type": "code",
   "execution_count": 2,
   "metadata": {},
   "outputs": [],
   "source": [
    "# Carregar modelo SBERT\n",
    "sbert_model = SentenceTransformer(MODEL_NAME)\n",
    "\n",
    "# Definir o Autoencoder para ajuste fino dos embeddings\n",
    "class EmbeddingAutoencoder(nn.Module):\n",
    "    def __init__(self, input_dim, hidden_dim):\n",
    "        super(EmbeddingAutoencoder, self).__init__()\n",
    "        self.encoder = nn.Linear(input_dim, hidden_dim)\n",
    "        self.decoder = nn.Linear(hidden_dim, input_dim)\n",
    "\n",
    "    def forward(self, x):\n",
    "        x = torch.relu(self.encoder(x))\n",
    "        x = self.decoder(x)\n",
    "        return x\n",
    "\n",
    "# Instanciar o autoencoder\n",
    "autoencoder = EmbeddingAutoencoder(input_dim=EMBEDDING_DIM, hidden_dim=HIDDEN_DIM)\n",
    "criterion = nn.MSELoss()\n",
    "optimizer = optim.Adam(autoencoder.parameters(), lr=LEARNING_RATE)\n"
   ]
  },
  {
   "cell_type": "markdown",
   "metadata": {},
   "source": [
    "### Gerar Embeddings com SBERT\n",
    "\n",
    "Aqui, carregamos o dataset e geramos os embeddings para cada documento usando o modelo SBERT. Esses embeddings representam os documentos em um espaço vetorial de alta dimensão.\n"
   ]
  },
  {
   "cell_type": "code",
   "execution_count": 3,
   "metadata": {},
   "outputs": [
    {
     "data": {
      "application/vnd.jupyter.widget-view+json": {
       "model_id": "3a89038033884ea0a332a65e478a992b",
       "version_major": 2,
       "version_minor": 0
      },
      "text/plain": [
       "Batches:   0%|          | 0/313 [00:00<?, ?it/s]"
      ]
     },
     "metadata": {},
     "output_type": "display_data"
    }
   ],
   "source": [
    "# Função para gerar embeddings com SBERT\n",
    "def generate_sbert_embeddings(documents):\n",
    "    embeddings = sbert_model.encode(documents, convert_to_numpy=True, show_progress_bar=True)\n",
    "    return torch.tensor(embeddings, dtype=torch.float32)\n",
    "\n",
    "# Carregar dados e gerar embeddings\n",
    "def load_data_and_generate_embeddings(csv_path=\"../data/metadata.csv\"):\n",
    "    df = pd.read_csv(csv_path)\n",
    "    abstracts = df['abstract'].tolist()\n",
    "    embeddings = generate_sbert_embeddings(abstracts)\n",
    "    return embeddings\n",
    "\n",
    "# Carregar o dataset e gerar os embeddings\n",
    "embeddings = load_data_and_generate_embeddings()\n"
   ]
  },
  {
   "cell_type": "markdown",
   "metadata": {},
   "source": [
    "### Preparação e Treinamento do Autoencoder\n",
    "\n",
    "Usamos o autoencoder para ajustar os embeddings SBERT. Durante o treinamento, o autoencoder aprende a capturar as principais características dos embeddings, ajustando-os ao nosso dataset. O objetivo é refinar a representação vetorial, tornando-a mais relevante para o nosso conjunto de dados específico.\n"
   ]
  },
  {
   "cell_type": "code",
   "execution_count": 4,
   "metadata": {},
   "outputs": [
    {
     "name": "stdout",
     "output_type": "stream",
     "text": [
      "Epoch 1/10, Loss: 0.0011\n",
      "Epoch 2/10, Loss: 0.0005\n",
      "Epoch 3/10, Loss: 0.0005\n",
      "Epoch 4/10, Loss: 0.0004\n",
      "Epoch 5/10, Loss: 0.0004\n",
      "Epoch 6/10, Loss: 0.0004\n",
      "Epoch 7/10, Loss: 0.0004\n",
      "Epoch 8/10, Loss: 0.0004\n",
      "Epoch 9/10, Loss: 0.0004\n",
      "Epoch 10/10, Loss: 0.0004\n"
     ]
    }
   ],
   "source": [
    "# Preparar dados para o treinamento\n",
    "train_dataset = TensorDataset(embeddings)\n",
    "train_loader = DataLoader(train_dataset, batch_size=BATCH_SIZE, shuffle=True)\n",
    "\n",
    "# Função de treinamento do autoencoder\n",
    "def train_autoencoder(model, dataloader, criterion, optimizer, epochs):\n",
    "    model.train()\n",
    "    for epoch in range(epochs):\n",
    "        total_loss = 0\n",
    "        for batch in dataloader:\n",
    "            inputs = batch[0]\n",
    "            optimizer.zero_grad()\n",
    "            outputs = model(inputs)\n",
    "            loss = criterion(outputs, inputs)\n",
    "            loss.backward()\n",
    "            optimizer.step()\n",
    "            total_loss += loss.item()\n",
    "        avg_loss = total_loss / len(dataloader)\n",
    "        print(f\"Epoch {epoch + 1}/{epochs}, Loss: {avg_loss:.4f}\")\n",
    "\n",
    "# Treinamento do autoencoder\n",
    "train_autoencoder(autoencoder, train_loader, criterion, optimizer, EPOCHS)\n"
   ]
  },
  {
   "cell_type": "code",
   "execution_count": 22,
   "metadata": {},
   "outputs": [],
   "source": [
    "# Salvar os pesos do modelo no arquivo \"autoencoder_model.pth\"\n",
    "torch.save(autoencoder.state_dict(), \"autoencoder_model.pth\")"
   ]
  },
  {
   "cell_type": "markdown",
   "metadata": {},
   "source": [
    "### Refinamento dos Embeddings Ajustados e Salvamento (Opcional)\n",
    "\n",
    "Após o treinamento do autoencoder, usamos a camada `encoder` para obter os embeddings ajustados e, opcionalmente, salvá-los para uso posterior.\n"
   ]
  },
  {
   "cell_type": "code",
   "execution_count": 5,
   "metadata": {},
   "outputs": [],
   "source": [
    "# Função para ajustar embeddings com o autoencoder treinado\n",
    "def refine_embeddings(embeddings, model):\n",
    "    model.eval()\n",
    "    with torch.no_grad():\n",
    "        refined_embeddings = model.encoder(embeddings).numpy()\n",
    "    return refined_embeddings\n",
    "\n",
    "# Refinar os embeddings ajustados\n",
    "refined_embeddings = refine_embeddings(embeddings, autoencoder)\n",
    "\n",
    "# Salvar embeddings ajustados, se desejar reutilizar depois\n",
    "torch.save(refined_embeddings, \"refined_embeddings.pt\")\n"
   ]
  },
  {
   "cell_type": "markdown",
   "metadata": {},
   "source": [
    "### Projeção dos Embeddings com t-SNE\n",
    "\n",
    "Para visualizar os embeddings em 2D, usamos o t-SNE. Ele permite projetar o espaço vetorial de alta dimensão em um espaço bidimensional, facilitando a visualização e a identificação de possíveis agrupamentos.\n"
   ]
  },
  {
   "cell_type": "code",
   "execution_count": 6,
   "metadata": {},
   "outputs": [
    {
     "name": "stderr",
     "output_type": "stream",
     "text": [
      "c:\\Users\\guilh\\AppData\\Local\\Programs\\Python\\Python312\\Lib\\site-packages\\sklearn\\manifold\\_t_sne.py:1162: FutureWarning: 'n_iter' was renamed to 'max_iter' in version 1.5 and will be removed in 1.7.\n",
      "  warnings.warn(\n",
      "c:\\Users\\guilh\\AppData\\Local\\Programs\\Python\\Python312\\Lib\\site-packages\\sklearn\\manifold\\_t_sne.py:1162: FutureWarning: 'n_iter' was renamed to 'max_iter' in version 1.5 and will be removed in 1.7.\n",
      "  warnings.warn(\n"
     ]
    }
   ],
   "source": [
    "# Função para projetar embeddings em 2D usando t-SNE\n",
    "def project_embeddings_tsne(embeddings, perplexity=30, n_iter=1000):\n",
    "    tsne = TSNE(n_components=2, perplexity=perplexity, n_iter=n_iter, random_state=42)\n",
    "    projected_embeddings = tsne.fit_transform(embeddings)\n",
    "    return projected_embeddings\n",
    "\n",
    "# Projetar os embeddings SBERT pré-treinados e os embeddings ajustados em 2D\n",
    "sbert_embeddings_2d = project_embeddings_tsne(embeddings)\n",
    "refined_embeddings_2d = project_embeddings_tsne(refined_embeddings)\n"
   ]
  },
  {
   "cell_type": "markdown",
   "metadata": {},
   "source": [
    "### Visualização dos Embeddings em 2D\n",
    "\n",
    "Nesta etapa, visualizamos os embeddings em um gráfico de dispersão. Comparamos a organização dos embeddings SBERT pré-treinados e dos embeddings ajustados pelo autoencoder.\n"
   ]
  },
  {
   "cell_type": "code",
   "execution_count": 7,
   "metadata": {},
   "outputs": [
    {
     "name": "stderr",
     "output_type": "stream",
     "text": [
      "C:\\Users\\guilh\\AppData\\Local\\Temp\\ipykernel_81020\\2510290998.py:4: UserWarning: No data for colormapping provided via 'c'. Parameters 'cmap' will be ignored\n",
      "  scatter = plt.scatter(embeddings_2d[:, 0], embeddings_2d[:, 1], c=labels, cmap=\"viridis\", s=10, alpha=0.7)\n"
     ]
    }
   ],
   "source": [
    "# Visualizar embeddings em um gráfico de dispersão e salvar a imagem\n",
    "def plot_embeddings(embeddings_2d, labels=None, title=\"Embeddings Visualization\", filename=\"embedding_plot.png\"):\n",
    "    plt.figure(figsize=(10, 7))\n",
    "    scatter = plt.scatter(embeddings_2d[:, 0], embeddings_2d[:, 1], c=labels, cmap=\"viridis\", s=10, alpha=0.7)\n",
    "    if labels is not None:\n",
    "        plt.colorbar(scatter)\n",
    "    plt.title(title)\n",
    "    plt.xlabel(\"t-SNE Dimension 1\")\n",
    "    plt.ylabel(\"t-SNE Dimension 2\")\n",
    "    \n",
    "    # Salvar a imagem\n",
    "    plt.savefig(filename)\n",
    "    plt.close()  # Fechar a plotagem para liberar memória\n",
    "\n",
    "# Carregar o DataFrame e definir labels (caso existam)\n",
    "csv_path = \"../data/metadata.csv\"  # Caminho para o CSV com abstracts\n",
    "df = pd.read_csv(csv_path)\n",
    "labels = df['label'] if 'label' in df.columns else None\n",
    "\n",
    "# Visualizar e salvar os embeddings pré-treinados SBERT\n",
    "plot_embeddings(sbert_embeddings_2d, labels=labels, title=\"SBERT Embeddings\", filename=\"../sbert_embeddings.png\")\n",
    "\n",
    "# Visualizar e salvar os embeddings ajustados pelo autoencoder\n",
    "plot_embeddings(refined_embeddings_2d, labels=labels, title=\"Refined Embeddings with Autoencoder\", filename=\"../refined_embeddings.png\")\n"
   ]
  },
  {
   "cell_type": "markdown",
   "metadata": {},
   "source": [
    "### Função de Busca Baseada em Similaridade\n",
    "\n",
    "Nesta etapa, criamos uma função para buscar documentos semelhantes usando os embeddings refinados. A função recebe uma consulta do usuário, gera seu embedding usando SBERT e calcula a similaridade entre este embedding e os embeddings dos documentos. Em seguida, ordenamos os resultados de acordo com a similaridade para obter os documentos mais relevantes.\n"
   ]
  },
  {
   "cell_type": "code",
   "execution_count": null,
   "metadata": {},
   "outputs": [],
   "source": [
    "import torch.nn.functional as F\n",
    "\n",
    "def recommend_papers_with_embeddings(user_interest, document_embeddings, documents, model=sbert_model, autoencoder=None):\n",
    "    \"\"\"\n",
    "    Recomenda documentos com base na similaridade entre embeddings.\n",
    "\n",
    "    :param user_interest: Texto da consulta do usuário.\n",
    "    :param document_embeddings: Embeddings ajustados dos documentos.\n",
    "    :param documents: Lista de dicionários com informações dos documentos (por exemplo, título e conteúdo).\n",
    "    :param model: Modelo de embeddings SBERT para gerar o embedding da consulta.\n",
    "    :param autoencoder: Autoencoder treinado para ajustar a dimensão do embedding da consulta.\n",
    "    :return: Lista de dicionários contendo 'title', 'abstract' (primeiras 500 palavras), e 'relevance' dos documentos recomendados.\n",
    "    \"\"\"\n",
    "    # Gerar embedding para a consulta do usuário\n",
    "    user_embedding = model.encode([user_interest], convert_to_numpy=True)\n",
    "    \n",
    "    # Ajustar a dimensão do embedding da consulta usando o autoencoder, se fornecido\n",
    "    user_embedding = torch.tensor(user_embedding, dtype=torch.float32)\n",
    "    if autoencoder:\n",
    "        user_embedding = autoencoder.encoder(user_embedding).detach()\n",
    "    \n",
    "    # Garantir que os embeddings dos documentos estejam no formato tensor\n",
    "    document_embeddings = torch.tensor(document_embeddings, dtype=torch.float32)\n",
    "    \n",
    "    # Calcular similaridade de cosseno entre a consulta e os documentos\n",
    "    similarities = F.cosine_similarity(user_embedding, document_embeddings).flatten()\n",
    "    \n",
    "    # Preparar os resultados com título, resumo e relevância\n",
    "    results = []\n",
    "    for i, doc in enumerate(documents):\n",
    "        result = {\n",
    "            'title': doc['title'],\n",
    "            'abstract': ' '.join(doc['abstract'].split()[:500]),  # Limitar às primeiras 500 palavras\n",
    "            'relevance': similarities[i].item()  # Converter tensor para valor numérico\n",
    "        }\n",
    "        if similarities[i] > 0.85:\n",
    "            results.append(result)\n",
    "    \n",
    "    # Ordenar os resultados pela relevância em ordem decrescente\n",
    "    sorted_results = sorted(results, key=lambda x: x['relevance'], reverse=True)\n",
    "    \n",
    "    # Retornar os 10 resultados mais relevantes\n",
    "    return sorted_results[:10]\n"
   ]
  },
  {
   "cell_type": "markdown",
   "metadata": {},
   "source": [
    "### Preparar Dados e Rodar o Sistema de Busca\n",
    "\n",
    "Antes de realizar a busca, carregamos os dados e os embeddings ajustados, que já foram salvos anteriormente. Esta célula permite testar a função de busca com exemplos reais, usando uma lista de dicionários que representam os documentos.\n"
   ]
  },
  {
   "cell_type": "code",
   "execution_count": 9,
   "metadata": {},
   "outputs": [
    {
     "name": "stderr",
     "output_type": "stream",
     "text": [
      "C:\\Users\\guilh\\AppData\\Local\\Temp\\ipykernel_81020\\474089562.py:6: FutureWarning: You are using `torch.load` with `weights_only=False` (the current default value), which uses the default pickle module implicitly. It is possible to construct malicious pickle data which will execute arbitrary code during unpickling (See https://github.com/pytorch/pytorch/blob/main/SECURITY.md#untrusted-models for more details). In a future release, the default value for `weights_only` will be flipped to `True`. This limits the functions that could be executed during unpickling. Arbitrary objects will no longer be allowed to be loaded via this mode unless they are explicitly allowlisted by the user via `torch.serialization.add_safe_globals`. We recommend you start setting `weights_only=True` for any use case where you don't have full control of the loaded file. Please open an issue on GitHub for any issues related to this experimental feature.\n",
      "  refined_embeddings = torch.load(\"refined_embeddings.pt\")\n"
     ]
    },
    {
     "name": "stdout",
     "output_type": "stream",
     "text": [
      "Result 1:\n",
      "Title: Identifying disease trajectories with predicate information from a knowledge graph\n",
      "Abstract: BACKGROUND: Knowledge graphs can represent the contents of biomedical literature and databases as subject-predicate-object triples, thereby enabling comprehensive analyses that identify e.g. relationships between diseases. Some diseases are often diagnosed in patients in specific temporal sequences,...\n",
      "Relevance: 0.8844\n",
      "\n",
      "Result 2:\n",
      "Title: Simple Semantics in Topic Detection and Tracking\n",
      "Abstract: Topic Detection and Tracking (TDT) is a research initiative that aims at techniques to organize news documents in terms of news events. We propose a method that incorporates simple semantics into TDT by splitting the term space into groups of terms that have the meaning of the same type. Such a grou...\n",
      "Relevance: 0.8823\n",
      "\n",
      "Result 3:\n",
      "Title: Visual Interpretability in Computer-Assisted Diagnosis of Thyroid Nodules Using Ultrasound Images\n",
      "Abstract: BACKGROUND: The number of studies on deep learning in artificial intelligence (AI)-assisted diagnosis of thyroid nodules is increasing. However, it is difficult to explain what the models actually learn in artificial intelligence-assisted medical research. Our aim is to investigate the visual interp...\n",
      "Relevance: 0.8762\n",
      "\n",
      "Result 4:\n",
      "Title: Deep Convolutional Neural Networks for Computer-Aided Detection: CNN Architectures, Dataset Characteristics and Transfer Learning\n",
      "Abstract: Remarkable progress has been made in image recognition, primarily due to the availability of large-scale annotated datasets and deep convolutional neural networks (CNNs). CNNs enable learning data-driven, highly representative, hierarchical image features from sufficient training data. However, obta...\n",
      "Relevance: 0.8747\n",
      "\n",
      "Result 5:\n",
      "Title: Accuracy of using automated methods for detecting adverse events from electronic health record data: a research protocol\n",
      "Abstract: BACKGROUND: Adverse events are associated with significant morbidity, mortality and cost in hospitalized patients. Measuring adverse events is necessary for quality improvement, but current detection methods are inaccurate, untimely and expensive. The advent of electronic health records and the deve...\n",
      "Relevance: 0.8713\n",
      "\n",
      "Result 6:\n",
      "Title: Twitter sentiment classification for measuring public health concerns\n",
      "Abstract: An important task of public health officials is to keep track of health issues, such as spreading epidemics. In this paper, we are addressing the issue of spreading public concern about epidemics. Public concern about a communicable disease can be seen as a problem of its own. Keeping track of trend...\n",
      "Relevance: 0.8640\n",
      "\n",
      "Result 7:\n",
      "Title: Microblog topic identification using Linked Open Data\n",
      "Abstract: Much valuable information is embedded in social media posts (microposts) which are contributed by a great variety of persons about subjects that of interest to others. The automated utilization of this information is challenging due to the overwhelming quantity of posts and the distributed nature of...\n",
      "Relevance: 0.8628\n",
      "\n",
      "Result 8:\n",
      "Title: Drug Resistance Prediction Using Deep Learning Techniques on HIV-1 Sequence Data\n",
      "Abstract: The fast replication rate and lack of repair mechanisms of human immunodeficiency virus (HIV) contribute to its high mutation frequency, with some mutations resulting in the evolution of resistance to antiretroviral therapies (ART). As such, studying HIV drug resistance allows for real-time evaluati...\n",
      "Relevance: 0.8614\n",
      "\n",
      "Result 9:\n",
      "Title: The impact of artificial intelligence in the diagnosis and management of glaucoma\n",
      "Abstract: Deep learning (DL) is a subset of artificial intelligence (AI), which uses multilayer neural networks modelled after the mammalian visual cortex capable of synthesizing images in ways that will transform the field of glaucoma. Autonomous DL algorithms are capable of maximizing information embedded i...\n",
      "Relevance: 0.8595\n",
      "\n",
      "Result 10:\n",
      "Title: Uncertainty Assisted Robust Tuberculosis Identification With Bayesian Convolutional Neural Networks\n",
      "Abstract: Tuberculosis (TB) is an infectious disease that can lead towards death if left untreated. TB detection involves extraction of complex TB manifestation features such as lung cavity, air space consolidation, endobronchial spread, and pleural effusions from chest x-rays (CXRs). Deep learning based appr...\n",
      "Relevance: 0.8579\n",
      "\n"
     ]
    }
   ],
   "source": [
    "# Carregar o dataset e os embeddings refinados\n",
    "df = pd.read_csv(csv_path)\n",
    "documents = df.to_dict(orient='records')\n",
    "\n",
    "# Carregar os embeddings ajustados\n",
    "refined_embeddings = torch.load(\"refined_embeddings.pt\")\n",
    "\n",
    "# Exemplo de uso da função de busca com uma consulta do usuário\n",
    "user_interest = \"deep learning applications in natural language processing\"\n",
    "top_documents = recommend_papers_with_embeddings(user_interest, refined_embeddings, documents, autoencoder=autoencoder)\n",
    "\n",
    "# Exibir os resultados\n",
    "for idx, doc in enumerate(top_documents):\n",
    "    print(f\"Result {idx+1}:\")\n",
    "    print(f\"Title: {doc['title']}\")\n",
    "    print(f\"Abstract: {doc['abstract'][:300]}...\")  # Mostrar apenas os primeiros 300 caracteres\n",
    "    print(f\"Relevance: {doc['relevance']:.4f}\\n\")\n"
   ]
  },
  {
   "cell_type": "markdown",
   "metadata": {},
   "source": [
    "### Testes de Busca com Três Consultas Diferentes\n",
    "\n",
    "Realizamos três testes com diferentes consultas para validar o sistema de busca:\n",
    "- Uma consulta utilizando conceitos específicos.\n",
    "- Uma consulta utilizando conceitos gerais.\n",
    "- Uma consulta que retorna um resultado “não óbvio” ou inesperado.\n",
    "\n",
    "Esses testes nos ajudam a verificar a robustez e a precisão do sistema.\n"
   ]
  },
  {
   "cell_type": "code",
   "execution_count": 33,
   "metadata": {},
   "outputs": [
    {
     "name": "stdout",
     "output_type": "stream",
     "text": [
      "Teste 1: Resultados para um teste que deve retornar 10 resultados: deep learning applications in natural language processing\n",
      "Title: Identifying disease trajectories with predicate information from a knowledge graph, Relevance: 0.8844\n",
      "Title: Simple Semantics in Topic Detection and Tracking, Relevance: 0.8823\n",
      "Title: Visual Interpretability in Computer-Assisted Diagnosis of Thyroid Nodules Using Ultrasound Images, Relevance: 0.8762\n",
      "Title: Deep Convolutional Neural Networks for Computer-Aided Detection: CNN Architectures, Dataset Characteristics and Transfer Learning, Relevance: 0.8747\n",
      "Title: Accuracy of using automated methods for detecting adverse events from electronic health record data: a research protocol, Relevance: 0.8713\n",
      "Title: Twitter sentiment classification for measuring public health concerns, Relevance: 0.8640\n",
      "Title: Microblog topic identification using Linked Open Data, Relevance: 0.8628\n",
      "Title: Drug Resistance Prediction Using Deep Learning Techniques on HIV-1 Sequence Data, Relevance: 0.8614\n",
      "Title: The impact of artificial intelligence in the diagnosis and management of glaucoma, Relevance: 0.8595\n",
      "Title: Uncertainty Assisted Robust Tuberculosis Identification With Bayesian Convolutional Neural Networks, Relevance: 0.8579\n",
      "\n",
      "--------------------------------------------------\n",
      "\n",
      "Teste 2: Resultados para um teste que deve retornar menos de 10 resultados: instances aws para modelos machine learning\n",
      "Title: Describing dengue epidemics: Insights from simple mechanistic models, Relevance: 0.8536\n",
      "Title: A System Dynamics Simulation Applied to Healthcare: A Systematic Review, Relevance: 0.8535\n",
      "\n",
      "--------------------------------------------------\n",
      "\n",
      "Teste 3: Resultados para um teste que deve retornar um resultado não óbvio: specific technique used only in a few papers\n",
      "Title: Transparent peer review one year on, Relevance: 0.8782\n",
      "Title: How to Make Your Relationship Work? Aesthetic Relations with Technology, Relevance: 0.8720\n",
      "Title: Protecting Participants in Genomic Research: Understanding the “Web of Protections” Afforded by Federal and State Law, Relevance: 0.8705\n",
      "Title: Electronic cigarettes: Tumultuous times, Relevance: 0.8704\n",
      "Title: Applications of simulation within the healthcare context, Relevance: 0.8677\n",
      "Title: Global mapping of randomised trials related articles published in high-impact-factor medical journals: a cross-sectional analysis, Relevance: 0.8663\n",
      "Title: „Off-label use“ in der Herzchirurgie, Relevance: 0.8658\n",
      "Title: Guideline on writing a case report, Relevance: 0.8657\n",
      "Title: Ethical Alternatives to Experiments with Novel Potential Pandemic Pathogens, Relevance: 0.8655\n",
      "Title: The surviving sepsis campaign: basic/translational science research priorities, Relevance: 0.8646\n"
     ]
    }
   ],
   "source": [
    "import requests\n",
    "\n",
    "def query_api(query):\n",
    "    url = f\"http://localhost:3942/query?query={query}\"\n",
    "    response = requests.get(url)\n",
    "    if response.status_code == 200:\n",
    "        try:\n",
    "            return response.json()  # Tenta converter o JSON para uma lista de dicionários\n",
    "        except ValueError:\n",
    "            print(\"Erro ao decodificar o JSON. Verifique a resposta da API.\")\n",
    "            return []\n",
    "    else:\n",
    "        print(f\"Erro na consulta para a API: {response.status_code}\")\n",
    "        return []\n",
    "\n",
    "# Teste 1: Teste que deve retornar 10 resultados\n",
    "query1 = \"deep learning applications in natural language processing\"\n",
    "results1 = query_api(query1)\n",
    "print(\"Teste 1: Resultados para um teste que deve retornar 10 resultados:\", query1)\n",
    "for idx, doc in enumerate(results1['results']):\n",
    "    print(f\"Title: {doc['title']}, Relevance: {doc['relevance']:.4f}\")\n",
    "\n",
    "print(\"\\n\" + \"-\"*50 + \"\\n\")\n",
    "\n",
    "# Teste 2: Teste que deve retornar menos de 10 resultados\n",
    "query2 = \"instances aws para modelos machine learning\"  \n",
    "results2 = query_api(query2)\n",
    "print(\"Teste 2: Resultados para um teste que deve retornar menos de 10 resultados:\", query2)\n",
    "for idx, doc in enumerate(results2['results']):\n",
    "    print(f\"Title: {doc['title']}, Relevance: {doc['relevance']:.4f}\")\n",
    "\n",
    "print(\"\\n\" + \"-\"*50 + \"\\n\")\n",
    "\n",
    "# Teste 3: Teste que deve retornar um resultado não óbvio\n",
    "query3 = \"specific technique used only in a few papers\"\n",
    "results3 = query_api(query3)\n",
    "print(\"Teste 3: Resultados para um teste que deve retornar um resultado não óbvio:\", query3)\n",
    "for idx, doc in enumerate(results3['results']):\n",
    "    print(f\"Title: {doc['title']}, Relevance: {doc['relevance']:.4f}\")\n"
   ]
  },
  {
   "cell_type": "markdown",
   "metadata": {},
   "source": [
    "### Definir Métrica de Desempenho e Configurações dos Embeddings\n",
    "\n",
    "Para medir o desempenho do sistema de busca, usamos uma tarefa de classificação como proxy. A métrica escolhida é a acurácia de classificação, que indica o quão bem os embeddings podem distinguir entre diferentes categorias de documentos.\n"
   ]
  },
  {
   "cell_type": "code",
   "execution_count": 11,
   "metadata": {},
   "outputs": [],
   "source": [
    "from sklearn.linear_model import LogisticRegression\n",
    "from sklearn.model_selection import train_test_split\n",
    "from sklearn.metrics import accuracy_score\n",
    "\n",
    "# Função para calcular a acurácia de classificação usando uma tarefa proxy\n",
    "def evaluate_embeddings_classification(embeddings, labels):\n",
    "    X_train, X_test, y_train, y_test = train_test_split(embeddings, labels, test_size=0.2, random_state=42)\n",
    "    classifier = LogisticRegression(max_iter=1000)\n",
    "    classifier.fit(X_train, y_train)\n",
    "    predictions = classifier.predict(X_test)\n",
    "    return accuracy_score(y_test, predictions)\n"
   ]
  },
  {
   "cell_type": "markdown",
   "metadata": {},
   "source": [
    "### Preparar Embeddings das Três Abordagens\n",
    "\n",
    "Usamos três tipos de embeddings para comparar o desempenho:\n",
    "1. Embeddings SBERT sem ajuste.\n",
    "2. Embeddings SBERT ajustados com autoencoder.\n",
    "3. Embeddings GloVe ajustados com autoencoder.\n"
   ]
  },
  {
   "cell_type": "code",
   "execution_count": 12,
   "metadata": {},
   "outputs": [
    {
     "data": {
      "application/vnd.jupyter.widget-view+json": {
       "model_id": "c0c8571f23f3461fbc09a7e019e9a78d",
       "version_major": 2,
       "version_minor": 0
      },
      "text/plain": [
       "Batches:   0%|          | 0/313 [00:00<?, ?it/s]"
      ]
     },
     "metadata": {},
     "output_type": "display_data"
    }
   ],
   "source": [
    "from sklearn.feature_extraction.text import TfidfVectorizer\n",
    "from sklearn.decomposition import PCA\n",
    "\n",
    "# Carregar os dados\n",
    "df = pd.read_csv(csv_path)\n",
    "abstracts = df['abstract'].tolist()\n",
    "labels = df['label'] if 'label' in df.columns else [0] * len(abstracts)  # Assumindo rótulos ou, se não houver, rótulo neutro\n",
    "\n",
    "# Geração dos embeddings SBERT sem ajuste\n",
    "sbert_embeddings = sbert_model.encode(abstracts, convert_to_numpy=True, show_progress_bar=True)\n",
    "\n",
    "# Refinar embeddings SBERT ajustados\n",
    "refined_embeddings = refine_embeddings(torch.tensor(sbert_embeddings, dtype=torch.float32), autoencoder)\n",
    "\n",
    "# Geração dos embeddings GloVe com ajuste fino usando autoencoder\n",
    "# Carregar e ajustar embeddings GloVe\n",
    "vectorizer = TfidfVectorizer(max_features=300, stop_words='english')  # Reduzir dimensionalidade para similaridade\n",
    "glove_embeddings = vectorizer.fit_transform(abstracts).toarray()\n"
   ]
  },
  {
   "cell_type": "code",
   "execution_count": 13,
   "metadata": {},
   "outputs": [
    {
     "name": "stdout",
     "output_type": "stream",
     "text": [
      "Epoch 1/10, Loss: 0.0063\n",
      "Epoch 2/10, Loss: 0.0063\n",
      "Epoch 3/10, Loss: 0.0063\n",
      "Epoch 4/10, Loss: 0.0063\n",
      "Epoch 5/10, Loss: 0.0063\n",
      "Epoch 6/10, Loss: 0.0063\n",
      "Epoch 7/10, Loss: 0.0063\n",
      "Epoch 8/10, Loss: 0.0063\n",
      "Epoch 9/10, Loss: 0.0063\n",
      "Epoch 10/10, Loss: 0.0063\n"
     ]
    }
   ],
   "source": [
    "# Definir um novo autoencoder para embeddings de dimensão 300\n",
    "class GloveAutoencoder(nn.Module):\n",
    "    def __init__(self, input_dim=300, hidden_dim=128):\n",
    "        super(GloveAutoencoder, self).__init__()\n",
    "        self.encoder = nn.Linear(input_dim, hidden_dim)\n",
    "        self.decoder = nn.Linear(hidden_dim, input_dim)\n",
    "\n",
    "    def forward(self, x):\n",
    "        x = torch.relu(self.encoder(x))\n",
    "        x = self.decoder(x)\n",
    "        return x\n",
    "\n",
    "# Instanciar o autoencoder específico para GloVe\n",
    "glove_autoencoder = GloveAutoencoder(input_dim=300, hidden_dim=128)\n",
    "\n",
    "# Treine o novo autoencoder usando os embeddings GloVe (reutilize a função de treinamento)\n",
    "train_autoencoder(glove_autoencoder, DataLoader(TensorDataset(torch.tensor(glove_embeddings, dtype=torch.float32)), batch_size=BATCH_SIZE), criterion, optimizer, EPOCHS)\n",
    "\n",
    "# Ajuste fino dos embeddings GloVe\n",
    "glove_refined_embeddings = refine_embeddings(torch.tensor(glove_embeddings, dtype=torch.float32), glove_autoencoder)\n"
   ]
  },
  {
   "cell_type": "markdown",
   "metadata": {},
   "source": [
    "### Avaliar as Abordagens e Plotar os Resultados\n",
    "\n",
    "Avaliamos a acurácia de classificação das três abordagens e comparamos os resultados em um gráfico de barras.\n"
   ]
  },
  {
   "cell_type": "code",
   "execution_count": 14,
   "metadata": {},
   "outputs": [
    {
     "data": {
      "image/png": "[encoded data removed]",
      "text/plain": [
       "<Figure size 800x500 with 1 Axes>"
      ]
     },
     "metadata": {},
     "output_type": "display_data"
    }
   ],
   "source": [
    "import matplotlib.pyplot as plt\n",
    "\n",
    "# Avaliação das abordagens\n",
    "from sklearn.cluster import KMeans\n",
    "\n",
    "# Definir o número de clusters (n_classes) para os rótulos simulados\n",
    "n_classes = 5  # Escolha o número de clusters desejado\n",
    "kmeans = KMeans(n_clusters=n_classes, random_state=42)\n",
    "generated_labels = kmeans.fit_predict(sbert_embeddings)\n",
    "\n",
    "# Avaliar as três configurações de embeddings usando os rótulos gerados\n",
    "accuracy_sbert = evaluate_embeddings_classification(sbert_embeddings, generated_labels)\n",
    "accuracy_refined_sbert = evaluate_embeddings_classification(refined_embeddings, generated_labels)\n",
    "accuracy_refined_glove = evaluate_embeddings_classification(glove_refined_embeddings, generated_labels)\n",
    "\n",
    "# Resultados em dicionário para plotagem\n",
    "results = {\n",
    "    'SBERT (sem ajuste)': accuracy_sbert,\n",
    "    'SBERT (ajustado)': accuracy_refined_sbert,\n",
    "    'GloVe (ajustado)': accuracy_refined_glove\n",
    "}\n",
    "\n",
    "# Plotar o gráfico de barras comparando a acurácia de classificação\n",
    "plt.figure(figsize=(8, 5))\n",
    "plt.bar(results.keys(), results.values(), color=['blue', 'green', 'orange'])\n",
    "plt.xlabel(\"Métodos de Embedding\")\n",
    "plt.ylabel(\"Acurácia de Classificação\")\n",
    "plt.title(\"Desempenho de Classificação por Tipo de Embedding\")\n",
    "plt.show()\n"
   ]
  },
  {
   "cell_type": "code",
   "execution_count": null,
   "metadata": {},
   "outputs": [],
   "source": []
  }
 ],
 "metadata": {
  "kernelspec": {
   "display_name": "Python 3",
   "language": "python",
   "name": "python3"
  },
  "language_info": {
   "codemirror_mode": {
    "name": "ipython",
    "version": 3
   },
   "file_extension": ".py",
   "mimetype": "text/x-python",
   "name": "python",
   "nbconvert_exporter": "python",
   "pygments_lexer": "ipython3",
   "version": "3.12.2"
  }
 },
 "nbformat": 4,
 "nbformat_minor": 2
}
